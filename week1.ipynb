{
 "cells": [
  {
   "cell_type": "markdown",
   "metadata": {},
   "source": [
    "# Introduction"
   ]
  },
  {
   "cell_type": "markdown",
   "metadata": {},
   "source": [
    "The world is amidst a crisis, the coronavirus pandemic which has killed about 1% of the total population of the Earth, as of April, 2020. That 1% amounts to a very large number of almost seven hundred thousand. Although this is not the first occurence of such a pandemic, the global situation is worsening at an alarming rate and governments and other social service organisations need to harness the power of data in order to formulate better techniques to tackle the situation at hand. One way to do this would be to use data to determine the locations of neighbourhoods or regions where the virus' growth curve is rising and then focus more resources towards containing the virus in those regions.\n",
    "\n",
    "The goal of this project will be to bring out key insights about the virus and to determine which locations need more support in terms of the current situation. The project will use the foursquare api in order to determine similarities between affected areas.\n",
    "\n",
    "Findings from this project would be useful for governments and social service organisations - to curb the growth of the virus, business firms - to better understand the situation and then make changes to their business continuity programmes or BCPs, fpr students - looking to study abroad, and for the informed individual who wants to understand and know where future opportunities will lie after the current situation subsides.\n",
    "\n",
    "The project will first cover some basic insights about the world as a whole and will then focus towards the situation in the neighbourhoods of the United States of America, since precise data for that region is easily available."
   ]
  },
  {
   "cell_type": "markdown",
   "metadata": {},
   "source": [
    "# Data"
   ]
  },
  {
   "cell_type": "markdown",
   "metadata": {},
   "source": [
    "<div align = center> Data Source</div>"
   ]
  },
  {
   "cell_type": "markdown",
   "metadata": {},
   "source": [
    "The data used in this project will be taken from the website https://data.humdata.org/dataset/novel-coronavirus-2019-ncov-cases, which is a website affiliated with the UNOCHA or the United Nations Office for the Coordination of Humanitarian Affairs;  the dataset is created and maintained by the <a href= 'https://data.humdata.org/organization/e5d3aa82-538e-4dae-94c9-010cc8ecbbc8'> Johns Hopkins School of Public Health</a>\n",
    "\n",
    "The datasets are:\n",
    "~Time Series: Confirmed Cases\n",
    "~Time Series: Global Deaths\n",
    "~Time Series: Global Recoveries\n",
    "\n",
    "The datasets have the following columns:\n",
    "<table>\n",
    "    <tr>\n",
    "        <th>Field Name</th>\n",
    "        <th>Information</th>\n",
    "    </tr>\n",
    "    <tr>\n",
    "        <td>Province/State</td>\n",
    "        <td>Province/State of Case</td>\n",
    "    </tr>\n",
    "    <tr>\n",
    "        <td>Country</td>\n",
    "        <td>Country of Case</td>\n",
    "    </tr>\n",
    "    <tr>\n",
    "        <td>Latitude</td>\n",
    "        <td>Coordinate Data of Case</td>\n",
    "    </tr>\n",
    "    <tr>\n",
    "        <td>Longitude</td>\n",
    "        <td>Coordinate Data of Case</td>\n",
    "    </tr>\n",
    "    <tr>\n",
    "        <td>Dates</td>\n",
    "        <td>Number of Cases Per Date</td>\n",
    "    </tr>\n",
    "</table>\n",
    "\n",
    "The datasets are updated almost every day and the updates are clearly listed on the website linked above"
   ]
  },
  {
   "cell_type": "markdown",
   "metadata": {},
   "source": [
    "<div align = center> Data Exploration</div>"
   ]
  },
  {
   "cell_type": "markdown",
   "metadata": {},
   "source": [
    "###### This Section Will Be Covered In The Next Week Of The Course As It Includes Code"
   ]
  },
  {
   "cell_type": "code",
   "execution_count": null,
   "metadata": {},
   "outputs": [],
   "source": []
  }
 ],
 "metadata": {
  "kernelspec": {
   "display_name": "Python 3",
   "language": "python",
   "name": "python3"
  },
  "language_info": {
   "codemirror_mode": {
    "name": "ipython",
    "version": 3
   },
   "file_extension": ".py",
   "mimetype": "text/x-python",
   "name": "python",
   "nbconvert_exporter": "python",
   "pygments_lexer": "ipython3",
   "version": "3.7.6"
  }
 },
 "nbformat": 4,
 "nbformat_minor": 4
}
